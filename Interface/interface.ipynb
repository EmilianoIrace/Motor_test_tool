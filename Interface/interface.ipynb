{
 "cells": [
  {
   "cell_type": "code",
   "execution_count": 1,
   "metadata": {},
   "outputs": [],
   "source": [
    "import serial\n",
    "import time"
   ]
  },
  {
   "cell_type": "code",
   "execution_count": 2,
   "metadata": {},
   "outputs": [],
   "source": [
    "\n",
    "def write_read(x): \n",
    "    ser.write(bytes(x, 'utf-8')) \n",
    "    time.sleep(0.05) \n",
    "    data = ser.readline() \n",
    "    return data \n",
    "\n",
    "def read_string():\n",
    "    while(1):\n",
    "        if(ser.in_waiting>0):\n",
    "            received_data = \"\"\n",
    "            while True:\n",
    "                char = ser.read().decode()\n",
    "                if char == '\\n':\n",
    "                    break\n",
    "                received_data += char.strip()\n",
    "            return received_data\n",
    "\n",
    "# Define the serial port and baud rate\n",
    "serial_port = 'COM8'  # Replace with the appropriate port name\n",
    "baud_rate = 9600  # Replace with the appropriate baud rate\n",
    "\n",
    "# Create a serial object\n",
    "ser = serial.Serial(serial_port, baud_rate)\n",
    "if ser.is_open:\n",
    "    ser.close()\n",
    "# # Open the serial port\n",
    "ser.open()\n"
   ]
  },
  {
   "cell_type": "code",
   "execution_count": null,
   "metadata": {},
   "outputs": [],
   "source": [
    "\n",
    "# Check if the serial port is open\n",
    "if ser.is_open:\n",
    "    print(f\"Serial port {serial_port} is open.\")\n",
    "\n",
    "    # # Send data to the Arduino\n",
    "    data = 22\n",
    "    ser.write(\"Start communication\\n\".encode())\n",
    "    time.sleep(1)\n",
    "    print(\"Data sent to Arduino\")\n",
    "    received_data = \"\"\n",
    "    while( received_data != \"Connection_established \"):\n",
    "        received_data = read_string()\n",
    "        print(f\"Received data: {received_data}\")\n",
    "        if received_data == \"Connection_pending \":\n",
    "            # ser.write(data.encode())\n",
    "            # ser.write(\"\\n\".encode())\n",
    "            # ser.write(5)\n",
    "            print(\"Data sent to Arduino\")\n",
    "        received_data = read_string()\n",
    "\n",
    "    while ser.in_waiting > 0:\n",
    "        time.sleep(0.001)\n",
    "        # received_data = ser.readline().decode().strip()\n",
    "        # print(f\"Received data: {received_data}\")\n",
    "    received_data = ser.readline().decode().strip()\n",
    "    print(f\"Received data: {received_data}\")\n",
    "    \n",
    "    # Read data from the Arduino\n",
    "    # while ser.in_waiting > 0:\n",
    "    #     time.sleep(0.001)\n",
    "    #     # received_data = ser.readline().decode().strip()\n",
    "    #     # print(f\"Received data: {received_data}\")\n",
    "    print(f\"Received data: {duty_cycle}\")\n",
    "    # Close the serial port\n",
    "    ser.close()\n",
    "    print(f\"Serial port {serial_port} is closed.\")\n",
    "else:\n",
    "    print(f\"Failed to open serial port {serial_port}.\")"
   ]
  },
  {
   "cell_type": "code",
   "execution_count": 23,
   "metadata": {},
   "outputs": [
    {
     "name": "stdout",
     "output_type": "stream",
     "text": [
      "Received data: 0\n"
     ]
    }
   ],
   "source": [
    "ser.write(b\"Start communication\")\n",
    "received_data = read_string()\n",
    "print(f\"Received data: {received_data}\")"
   ]
  },
  {
   "cell_type": "code",
   "execution_count": null,
   "metadata": {},
   "outputs": [],
   "source": []
  }
 ],
 "metadata": {
  "kernelspec": {
   "display_name": "Python 3",
   "language": "python",
   "name": "python3"
  },
  "language_info": {
   "codemirror_mode": {
    "name": "ipython",
    "version": 3
   },
   "file_extension": ".py",
   "mimetype": "text/x-python",
   "name": "python",
   "nbconvert_exporter": "python",
   "pygments_lexer": "ipython3",
   "version": "3.12.0"
  }
 },
 "nbformat": 4,
 "nbformat_minor": 2
}
